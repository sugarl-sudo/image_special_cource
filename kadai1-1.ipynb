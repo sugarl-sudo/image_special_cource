{
 "cells": [
  {
   "cell_type": "code",
   "execution_count": 3,
   "metadata": {},
   "outputs": [
    {
     "name": "stdout",
     "output_type": "stream",
     "text": [
      "RMS reprojection error: 67.76761020733406\n"
     ]
    }
   ],
   "source": [
    "import cv2, numpy as np, pandas as pd\n",
    "\n",
    "world_pts = np.float32([\n",
    "  [10,0,10],[90,0,10],[10,0,90],[90,0,90],\n",
    "  [0,10,10],[0,90,10],[0,10,90],[0,90,90],\n",
    "  [10,10,100],[90,10,100],[10,90,100],[90,90,100]\n",
    "])\n",
    "\n",
    "# === 2. ここに対応する (u,v) pxを記入===\n",
    "img_pts = np.float32([\n",
    "  [522,312],[784,300],[540,128],[803,120],\n",
    "  [478,345],[736,330],[493,165],[753,155],\n",
    "  [545, 92],[807, 84],[557, 11],[820,  6]\n",
    "])\n",
    "\n",
    "h, w = 1520, 2288     # 画像サイズ(px)を入力\n",
    "K0 = np.array([[w,0,w/2],[0,w, h/2],[0,0,1]], dtype=np.float64)  # 粗い初期値\n",
    "\n",
    "ret, K, dist, rvecs, tvecs = cv2.calibrateCamera(\n",
    "    [world_pts], [img_pts], (w,h),\n",
    "    K0, None,\n",
    "    flags=cv2.CALIB_USE_INTRINSIC_GUESS |\n",
    "          cv2.CALIB_ZERO_TANGENT_DIST |\n",
    "          cv2.CALIB_FIX_K3 | cv2.CALIB_FIX_K4 | cv2.CALIB_FIX_K5)\n",
    "\n",
    "# CSV に保存して終了\n",
    "pd.DataFrame(np.hstack([K, np.zeros((3,1))])).to_csv(\"K.csv\", index=False, header=False)\n",
    "pd.DataFrame(cv2.Rodrigues(rvecs[0])[0]).to_csv(\"R.csv\", index=False, header=False)\n",
    "pd.DataFrame(tvecs[0]).to_csv(\"t.csv\", index=False, header=False)\n",
    "print(\"RMS reprojection error:\", ret)\n"
   ]
  },
  {
   "cell_type": "code",
   "execution_count": 4,
   "metadata": {},
   "outputs": [
    {
     "name": "stderr",
     "output_type": "stream",
     "text": [
      "[ WARN:0@149.327] global loadsave.cpp:268 findDecoder imread_('box.jpg'): can't open/read file: check file path/integrity\n"
     ]
    },
    {
     "ename": "error",
     "evalue": "OpenCV(4.11.0) /Users/xperience/GHA-Actions-OpenCV/_work/opencv-python/opencv-python/opencv/modules/highgui/src/window.cpp:973: error: (-215:Assertion failed) size.width>0 && size.height>0 in function 'imshow'\n",
     "output_type": "error",
     "traceback": [
      "\u001b[31m---------------------------------------------------------------------------\u001b[39m",
      "\u001b[31merror\u001b[39m                                     Traceback (most recent call last)",
      "\u001b[36mCell\u001b[39m\u001b[36m \u001b[39m\u001b[32mIn[4]\u001b[39m\u001b[32m, line 22\u001b[39m\n\u001b[32m     20\u001b[39m img = cv2.imread(IMG)\n\u001b[32m     21\u001b[39m cv2.namedWindow(\u001b[33m'\u001b[39m\u001b[33mpick\u001b[39m\u001b[33m'\u001b[39m), cv2.setMouseCallback(\u001b[33m'\u001b[39m\u001b[33mpick\u001b[39m\u001b[33m'\u001b[39m, on_click)\n\u001b[32m---> \u001b[39m\u001b[32m22\u001b[39m cv2.imshow(\u001b[33m'\u001b[39m\u001b[33mpick\u001b[39m\u001b[33m'\u001b[39m, img); cv2.waitKey(\u001b[32m0\u001b[39m)\n",
      "\u001b[31merror\u001b[39m: OpenCV(4.11.0) /Users/xperience/GHA-Actions-OpenCV/_work/opencv-python/opencv-python/opencv/modules/highgui/src/window.cpp:973: error: (-215:Assertion failed) size.width>0 && size.height>0 in function 'imshow'\n"
     ]
    },
    {
     "ename": "",
     "evalue": "",
     "output_type": "error",
     "traceback": [
      "\u001b[1;31m現在のセルまたは前のセルでコードを実行中に、カーネル (Kernel) がクラッシュしました。\n",
      "\u001b[1;31mエラーの原因を特定するには、セル内のコードを確認してください。\n",
      "\u001b[1;31m詳細については<a href='https://aka.ms/vscodeJupyterKernelCrash'>こちら</a>をクリックします。\n",
      "\u001b[1;31m詳細については、Jupyter <a href='command:jupyter.viewOutput'>ログ</a> を参照してください。"
     ]
    }
   ],
   "source": [
    "import cv2, csv\n",
    "\n",
    "IMG = 'box.jpg'        # キャリブ画像\n",
    "OUT = 'coords.csv'     # 出力先\n",
    "points = []            # 応答配列\n",
    "\n",
    "def on_click(event, x, y, flags, param):\n",
    "    if event == cv2.EVENT_LBUTTONDOWN:\n",
    "        idx = len(points)+1\n",
    "        points.append((idx, x, y))\n",
    "        print(f'{idx}: ({x}, {y})')\n",
    "        cv2.circle(img, (x, y), 4, (0, 0, 255), -1)\n",
    "        cv2.imshow('pick', img)\n",
    "        if idx == 12:           # 12点揃ったら保存\n",
    "            with open(OUT, 'w', newline='') as f:\n",
    "                csv.writer(f).writerows(points)\n",
    "            print('saved ->', OUT)\n",
    "            cv2.destroyAllWindows()\n",
    "\n",
    "img = cv2.imread(IMG)\n",
    "cv2.namedWindow('pick'), cv2.setMouseCallback('pick', on_click)\n",
    "cv2.imshow('pick', img); cv2.waitKey(0)\n"
   ]
  },
  {
   "cell_type": "code",
   "execution_count": null,
   "metadata": {},
   "outputs": [],
   "source": []
  }
 ],
 "metadata": {
  "kernelspec": {
   "display_name": ".venv",
   "language": "python",
   "name": "python3"
  },
  "language_info": {
   "codemirror_mode": {
    "name": "ipython",
    "version": 3
   },
   "file_extension": ".py",
   "mimetype": "text/x-python",
   "name": "python",
   "nbconvert_exporter": "python",
   "pygments_lexer": "ipython3",
   "version": "3.12.9"
  }
 },
 "nbformat": 4,
 "nbformat_minor": 2
}
