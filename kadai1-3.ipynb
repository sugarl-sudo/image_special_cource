{
 "cells": [
  {
   "cell_type": "code",
   "execution_count": 3,
   "metadata": {},
   "outputs": [
    {
     "name": "stdout",
     "output_type": "stream",
     "text": [
      "RMS reprojection error: 67.76761020733406\n"
     ]
    }
   ],
   "source": [
    "import cv2, numpy as np, pandas as pd\n",
    "\n",
    "world_pts = np.float32([\n",
    "  [10,0,10],[90,0,10],[10,0,90],[90,0,90],\n",
    "  [0,10,10],[0,90,10],[0,10,90],[0,90,90],\n",
    "  [10,10,100],[90,10,100],[10,90,100],[90,90,100]\n",
    "])\n",
    "\n",
    "# === 2. ここに対応する (u,v) pxを記入===\n",
    "img_pts = np.float32([\n",
    "  [522,312],[784,300],[540,128],[803,120],\n",
    "  [478,345],[736,330],[493,165],[753,155],\n",
    "  [545, 92],[807, 84],[557, 11],[820,  6]\n",
    "])\n",
    "\n",
    "h, w = 1520, 2288     # 画像サイズ(px)を入力\n",
    "K0 = np.array([[w,0,w/2],[0,w, h/2],[0,0,1]], dtype=np.float64)  # 粗い初期値\n",
    "\n",
    "ret, K, dist, rvecs, tvecs = cv2.calibrateCamera(\n",
    "    [world_pts], [img_pts], (w,h),\n",
    "    K0, None,\n",
    "    flags=cv2.CALIB_USE_INTRINSIC_GUESS |\n",
    "          cv2.CALIB_ZERO_TANGENT_DIST |\n",
    "          cv2.CALIB_FIX_K3 | cv2.CALIB_FIX_K4 | cv2.CALIB_FIX_K5)\n",
    "\n",
    "# CSV に保存して終了\n",
    "pd.DataFrame(np.hstack([K, np.zeros((3,1))])).to_csv(\"K.csv\", index=False, header=False)\n",
    "pd.DataFrame(cv2.Rodrigues(rvecs[0])[0]).to_csv(\"R.csv\", index=False, header=False)\n",
    "pd.DataFrame(tvecs[0]).to_csv(\"t.csv\", index=False, header=False)\n",
    "print(\"RMS reprojection error:\", ret)\n"
   ]
  },
  {
   "cell_type": "code",
   "execution_count": null,
   "metadata": {},
   "outputs": [],
   "source": []
  }
 ],
 "metadata": {
  "kernelspec": {
   "display_name": ".venv",
   "language": "python",
   "name": "python3"
  },
  "language_info": {
   "codemirror_mode": {
    "name": "ipython",
    "version": 3
   },
   "file_extension": ".py",
   "mimetype": "text/x-python",
   "name": "python",
   "nbconvert_exporter": "python",
   "pygments_lexer": "ipython3",
   "version": "3.12.9"
  }
 },
 "nbformat": 4,
 "nbformat_minor": 2
}
