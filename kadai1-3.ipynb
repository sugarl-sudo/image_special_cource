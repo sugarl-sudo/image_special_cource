{
 "cells": [
  {
   "cell_type": "code",
   "execution_count": 1,
   "metadata": {},
   "outputs": [
    {
     "name": "stdout",
     "output_type": "stream",
     "text": [
      "RMS reprojection error: 3.2737715885582848\n"
     ]
    }
   ],
   "source": [
    "import cv2\n",
    "import numpy as np\n",
    "import pandas as pd\n",
    "\n",
    "world_pts = np.float32([\n",
    "  [10,0,10], # 1\n",
    "  [90,0,10], # 3\n",
    "  [10,0,90], # 5\n",
    "  [90,0,90], # 7\n",
    "  [0,10,10], # 2\n",
    "  [0,90,10], # 4\n",
    "  [0,10,90], # 6\n",
    "  [0,90,90], # 8\n",
    "  [10,10,100], # 9\n",
    "  [90,10,100], # 10\n",
    "  [10,90,100], # 11\n",
    "  [90,90,100], # 12\n",
    "])\n",
    "\n",
    "# === 2. ここに対応する (u,v) pxを記入===\n",
    "# plot_image_xy.py で表示される画像の座標を入力してください。\n",
    "img_pts = np.float32([\n",
    "  [1378,1303],\n",
    "  [1698,982],\n",
    "  [1376,782],\n",
    "  [1724,489],\n",
    "  [1263,1311],\n",
    "  [783,1086],\n",
    "  [1255,797],\n",
    "  [736, 588],\n",
    "  [1304, 676],\n",
    "  [1664, 391],\n",
    "  [774, 482],\n",
    "  [1155,230],\n",
    "])\n",
    "\n",
    "h, w = 1520, 2288     # 画像サイズ(px)を入力\n",
    "K0 = np.array([[w,0,w/2],[0,w, h/2],[0,0,1]], dtype=np.float64)  # 粗い初期値\n",
    "\n",
    "ret, K, dist, rvecs, tvecs = cv2.calibrateCamera(\n",
    "    [world_pts], [img_pts], (w,h),\n",
    "    K0, None,\n",
    "    flags=cv2.CALIB_USE_INTRINSIC_GUESS |\n",
    "          cv2.CALIB_ZERO_TANGENT_DIST |\n",
    "          cv2.CALIB_FIX_K3 | cv2.CALIB_FIX_K4 | cv2.CALIB_FIX_K5)\n",
    "\n",
    "# CSV に保存して終了\n",
    "pd.DataFrame(np.hstack([K, np.zeros((3,1))])).to_csv(\"kadai1/K.csv\", index=False, header=False)\n",
    "pd.DataFrame(cv2.Rodrigues(rvecs[0])[0]).to_csv(\"kadai1/R.csv\", index=False, header=False)\n",
    "pd.DataFrame(tvecs[0]).to_csv(\"kadai1/t.csv\", index=False, header=False)\n",
    "print(\"RMS reprojection error:\", ret)\n"
   ]
  },
  {
   "cell_type": "code",
   "execution_count": null,
   "metadata": {},
   "outputs": [],
   "source": []
  }
 ],
 "metadata": {
  "kernelspec": {
   "display_name": ".venv",
   "language": "python",
   "name": "python3"
  },
  "language_info": {
   "codemirror_mode": {
    "name": "ipython",
    "version": 3
   },
   "file_extension": ".py",
   "mimetype": "text/x-python",
   "name": "python",
   "nbconvert_exporter": "python",
   "pygments_lexer": "ipython3",
   "version": "3.12.9"
  }
 },
 "nbformat": 4,
 "nbformat_minor": 2
}
