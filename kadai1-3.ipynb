{
 "cells": [
  {
   "cell_type": "markdown",
   "metadata": {},
   "source": [
    "## a. カメラパラメータ計算"
   ]
  },
  {
   "cell_type": "code",
   "execution_count": 1,
   "metadata": {},
   "outputs": [
    {
     "name": "stdout",
     "output_type": "stream",
     "text": [
      "RMS reprojection error: 3.2737715885582848\n"
     ]
    }
   ],
   "source": [
    "import cv2\n",
    "import numpy as np\n",
    "import pandas as pd\n",
    "\n",
    "world_pts = np.float32([\n",
    "  [10,0,10], # 1\n",
    "  [90,0,10], # 3\n",
    "  [10,0,90], # 5\n",
    "  [90,0,90], # 7\n",
    "  [0,10,10], # 2\n",
    "  [0,90,10], # 4\n",
    "  [0,10,90], # 6\n",
    "  [0,90,90], # 8\n",
    "  [10,10,100], # 9\n",
    "  [90,10,100], # 10\n",
    "  [10,90,100], # 11\n",
    "  [90,90,100], # 12\n",
    "])\n",
    "\n",
    "# === 2. ここに対応する (u,v) pxを記入===\n",
    "# plot_image_xy.py で表示される画像の座標を入力してください。\n",
    "img_pts = np.float32([\n",
    "  [1378,1303],\n",
    "  [1698,982],\n",
    "  [1376,782],\n",
    "  [1724,489],\n",
    "  [1263,1311],\n",
    "  [783,1086],\n",
    "  [1255,797],\n",
    "  [736, 588],\n",
    "  [1304, 676],\n",
    "  [1664, 391],\n",
    "  [774, 482],\n",
    "  [1155,230],\n",
    "])\n",
    "\n",
    "h, w = 1520, 2288     # 画像サイズ(px)を入力\n",
    "K0 = np.array([[w,0,w/2],[0,w, h/2],[0,0,1]], dtype=np.float64)  # 粗い初期値\n",
    "\n",
    "ret, K, dist, rvecs, tvecs = cv2.calibrateCamera(\n",
    "    [world_pts], [img_pts], (w,h),\n",
    "    K0, None,\n",
    "    flags=cv2.CALIB_USE_INTRINSIC_GUESS |\n",
    "          cv2.CALIB_ZERO_TANGENT_DIST |\n",
    "          cv2.CALIB_FIX_K3 | cv2.CALIB_FIX_K4 | cv2.CALIB_FIX_K5)\n",
    "\n",
    "# CSV に保存して終了\n",
    "pd.DataFrame(np.hstack([K, np.zeros((3,1))])).to_csv(\"kadai1/K.csv\", index=False, header=False)\n",
    "pd.DataFrame(cv2.Rodrigues(rvecs[0])[0]).to_csv(\"kadai1/R.csv\", index=False, header=False)\n",
    "pd.DataFrame(tvecs[0]).to_csv(\"kadai1/t.csv\", index=False, header=False)\n",
    "print(\"RMS reprojection error:\", ret)\n"
   ]
  },
  {
   "cell_type": "markdown",
   "metadata": {},
   "source": [
    "### b. x, y座標計算"
   ]
  },
  {
   "cell_type": "code",
   "execution_count": 7,
   "metadata": {},
   "outputs": [
    {
     "name": "stdout",
     "output_type": "stream",
     "text": [
      "x側の交点\n",
      "交点1:  [ 9.66479698 -1.59245753]\n",
      "交点2:  [20.51384092 -1.46321852]\n",
      "交点3:  [30.34121959 -2.029498  ]\n",
      "交点4:  [41.79139837 -0.72470038]\n",
      "交点5:  [51.33444792 -0.47028063]\n",
      "交点6:  [61.14489247 -1.08633004]\n",
      "交点7:  [71.58532694 -1.03239016]\n",
      "交点8:  [81.81389681 -2.01007653]\n",
      "交点9:  [91.39735281 -1.68890734]\n",
      "y側の交点\n",
      "交点10:  [-0.48539194  8.98800832]\n",
      "交点11: [-0.11011984 19.63662546]\n",
      "交点12: [ 0.47440186 30.99805497]\n",
      "交点13: [ 0.69293802 39.3822839 ]\n",
      "交点14: [ 0.08740485 50.31121311]\n",
      "交点15: [-0.47169855 59.398612  ]\n",
      "交点16: [ 0.35915261 70.62399468]\n",
      "交点17: [ 0.10573161 80.86144057]\n",
      "交点18: [ 0.79074664 91.5989673 ]\n"
     ]
    }
   ],
   "source": [
    "import numpy as np\n",
    "import pandas as pd\n",
    "\n",
    "K = pd.read_csv('kadai1/K.csv', header=None).values\n",
    "R = pd.read_csv('kadai1/R.csv', header=None).values\n",
    "t = pd.read_csv('kadai1/t.csv', header=None).values.reshape(-1)\n",
    "\n",
    "fx, fy, cx, cy = K[0,0], K[1,1], K[0,2], K[1,2]\n",
    "Z0 = 70.0           # mm\n",
    "\n",
    "def solve_xy(u, v):\n",
    "    a = (u - cx)/fx; b = (v - cy)/fy         # α, β\n",
    "    A1 = a*R[2,0] - R[0,0];  B1 = a*R[2,1] - R[0,1]\n",
    "    C1 = R[0,2]*Z0 + t[0] - a*(R[2,2]*Z0 + t[2])\n",
    "    A2 = b*R[2,0] - R[1,0];  B2 = b*R[2,1] - R[1,1]\n",
    "    C2 = R[1,2]*Z0 + t[1] - b*(R[2,2]*Z0 + t[2])\n",
    "    XY = np.linalg.solve([[A1,B1],[A2,B2]], [C1,C2])\n",
    "    return XY  # [X, Y]\n",
    "\n",
    "# 例: (u,v) = (600,320) の交点\n",
    "# x側の交点（理論上yはゼロなはず）\n",
    "print(\"x側の交点\")\n",
    "print(\"交点1: \", solve_xy(1378, 924))    \n",
    "print(\"交点2: \", solve_xy(1426, 880))    \n",
    "print(\"交点3: \", solve_xy(1473,843))    \n",
    "print(\"交点4: \", solve_xy(1513,796))    \n",
    "print(\"交点5: \", solve_xy(1551,760))\n",
    "print(\"交点6: \", solve_xy(1595,726))\n",
    "print(\"交点7: \", solve_xy(1636,689))\n",
    "print(\"交点8: \", solve_xy(1682,656))\n",
    "print(\"交点9: \", solve_xy(1716, 623))\n",
    "\n",
    "# y側の交点（理論上xはゼロなはず）\n",
    "print(\"y側の交点\")\n",
    "print(\"交点10: \", solve_xy(1258,936))\n",
    "print(\"交点11:\", solve_xy(1188,905))\n",
    "print(\"交点12:\", solve_xy(1116,872))\n",
    "print(\"交点13:\", solve_xy(1063,849))\n",
    "print(\"交点14:\", solve_xy(991,823))\n",
    "print(\"交点15:\", solve_xy(932,802))\n",
    "print(\"交点16:\", solve_xy(868,771))\n",
    "print(\"交点17:\", solve_xy(806,747))\n",
    "print(\"交点18:\", solve_xy(747,719))\n"
   ]
  },
  {
   "cell_type": "markdown",
   "metadata": {},
   "source": [
    "### c. 歪み考察"
   ]
  },
  {
   "cell_type": "code",
   "execution_count": 3,
   "metadata": {},
   "outputs": [
    {
     "name": "stdout",
     "output_type": "stream",
     "text": [
      "x側の交点\n",
      "交点1:  [ 8.62016068 -2.76443984]\n",
      "交点2:  [19.53615369 -2.77006263]\n",
      "交点3:  [29.39875586 -3.31771812]\n",
      "交点4:  [40.0131136  -2.45065892]\n",
      "交点5:  [49.7709502  -2.89683854]\n",
      "交点6:  [60.01173339 -3.35332084]\n",
      "交点7:  [70.90622525 -2.45455233]\n",
      "交点8:  [81.41880697 -2.57125536]\n",
      "交点9:  [90.55913193 -2.80664636]\n",
      "y側の交点\n",
      "交点10: [-1.31985584  7.81185867]\n",
      "交点11: [-1.63978037 18.05858181]\n",
      "交点12: [-1.09885159 28.65465402]\n",
      "交点13: [-0.71809669 39.02650899]\n",
      "交点14: [-1.13904317 49.33764047]\n",
      "交点15: [-1.10207655 59.17356504]\n",
      "交点16: [-1.55478336 69.15508861]\n",
      "交点17: [-1.01575448 79.78769599]\n",
      "交点18: [-0.40618978 89.77905375]\n"
     ]
    }
   ],
   "source": [
    "import numpy as np\n",
    "import pandas as pd\n",
    "\n",
    "K = pd.read_csv('kadai1/K.csv', header=None).values\n",
    "R = pd.read_csv('kadai1/R.csv', header=None).values\n",
    "t = pd.read_csv('kadai1/t.csv', header=None).values.reshape(-1)\n",
    "\n",
    "fx, fy, cx, cy = K[0,0], K[1,1], K[0,2], K[1,2]\n",
    "Z0 = 10.0           # mm\n",
    "\n",
    "def solve_xy(u, v):\n",
    "    a = (u - cx)/fx; b = (v - cy)/fy         # α, β\n",
    "    A1 = a*R[2,0] - R[0,0];  B1 = a*R[2,1] - R[0,1]\n",
    "    C1 = R[0,2]*Z0 + t[0] - a*(R[2,2]*Z0 + t[2])\n",
    "    A2 = b*R[2,0] - R[1,0];  B2 = b*R[2,1] - R[1,1]\n",
    "    C2 = R[1,2]*Z0 + t[1] - b*(R[2,2]*Z0 + t[2])\n",
    "    XY = np.linalg.solve([[A1,B1],[A2,B2]], [C1,C2])\n",
    "    return XY  # [X, Y]\n",
    "\n",
    "# 例: (u,v) = (600,320) の交点\n",
    "# x側の交点（理論上yはゼロなはず）\n",
    "print(\"x側の交点\")\n",
    "print(\"交点1: \", solve_xy(1376,1303))    \n",
    "print(\"交点2: \", solve_xy(1422,1257))    \n",
    "print(\"交点3: \", solve_xy(1466,1218))    \n",
    "print(\"交点4: \", solve_xy(1503,1173))    \n",
    "print(\"交点5: \", solve_xy(1544,1136))\n",
    "print(\"交点6: \", solve_xy(1586,1098))\n",
    "print(\"交点7: \", solve_xy(1621,1055))\n",
    "print(\"交点8: \", solve_xy(1660,1017))\n",
    "print(\"交点9: \", solve_xy(1694,985))\n",
    "\n",
    "# y側の交点（理論上xはゼロなはず）\n",
    "print(\"y側の交点\")\n",
    "print(\"交点10:\", solve_xy(1265,1314))\n",
    "print(\"交点11:\", solve_xy(1199,1285))\n",
    "print(\"交点12:\", solve_xy(1136,1252))\n",
    "print(\"交点13:\", solve_xy(1075,1221))\n",
    "print(\"交点14:\", solve_xy(1012,1194))\n",
    "print(\"交点15:\", solve_xy(955,1167))\n",
    "print(\"交点16:\", solve_xy(896,1142))\n",
    "print(\"交点17:\", solve_xy(839,1112))\n",
    "print(\"交点18:\", solve_xy(787,1084))\n"
   ]
  },
  {
   "cell_type": "code",
   "execution_count": null,
   "metadata": {},
   "outputs": [],
   "source": []
  }
 ],
 "metadata": {
  "kernelspec": {
   "display_name": ".venv",
   "language": "python",
   "name": "python3"
  },
  "language_info": {
   "codemirror_mode": {
    "name": "ipython",
    "version": 3
   },
   "file_extension": ".py",
   "mimetype": "text/x-python",
   "name": "python",
   "nbconvert_exporter": "python",
   "pygments_lexer": "ipython3",
   "version": "3.12.9"
  }
 },
 "nbformat": 4,
 "nbformat_minor": 2
}
